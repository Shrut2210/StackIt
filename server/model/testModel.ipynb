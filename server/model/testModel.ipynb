{
 "cells": [
  {
   "cell_type": "code",
   "execution_count": 18,
   "id": "492478dd",
   "metadata": {},
   "outputs": [],
   "source": [
    "import joblib\n",
    "from sklearn.pipeline import Pipeline"
   ]
  },
  {
   "cell_type": "code",
   "execution_count": 19,
   "id": "0ed09ebe",
   "metadata": {},
   "outputs": [],
   "source": [
    "model = joblib.load(\"moderation_pipeline.pkl\")"
   ]
  },
  {
   "cell_type": "code",
   "execution_count": 23,
   "id": "20c0a6aa",
   "metadata": {},
   "outputs": [],
   "source": [
    "def check_comment(text):\n",
    "    result = model.predict([text])[0]\n",
    "    return \"unsafe\" if result == 1 else \"safe\""
   ]
  },
  {
   "cell_type": "code",
   "execution_count": 25,
   "id": "cce91cf9",
   "metadata": {},
   "outputs": [],
   "source": [
    "examples = [\n",
    "    \"You are awesome!\",\n",
    "    \"Go to hell you idiot!\",\n",
    "    \"You're a horrible person and should die!\",\n",
    "    \"Nudes please\"\n",
    "]"
   ]
  },
  {
   "cell_type": "code",
   "execution_count": 26,
   "id": "e9ba616e",
   "metadata": {},
   "outputs": [
    {
     "name": "stdout",
     "output_type": "stream",
     "text": [
      "Comment: 'You are awesome!' -> safe\n",
      "Comment: 'Go to hell you idiot!' -> unsafe\n",
      "Comment: 'You're a horrible person and should die!' -> unsafe\n",
      "Comment: 'Nudes please' -> safe\n"
     ]
    }
   ],
   "source": [
    "for comment in examples:\n",
    "    result = check_comment(comment)\n",
    "    print(f\"Comment: '{comment}' -> {result}\")"
   ]
  }
 ],
 "metadata": {
  "kernelspec": {
   "display_name": "Python 3",
   "language": "python",
   "name": "python3"
  },
  "language_info": {
   "codemirror_mode": {
    "name": "ipython",
    "version": 3
   },
   "file_extension": ".py",
   "mimetype": "text/x-python",
   "name": "python",
   "nbconvert_exporter": "python",
   "pygments_lexer": "ipython3",
   "version": "3.12.2"
  }
 },
 "nbformat": 4,
 "nbformat_minor": 5
}
