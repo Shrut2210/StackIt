{
 "cells": [
  {
   "cell_type": "code",
   "execution_count": null,
   "id": "ca362df9",
   "metadata": {},
   "outputs": [],
   "source": [
    "import gradio as gr\n",
    "from transformers import AutoImageProcessor\n",
    "from transformers import SiglipForImageClassification\n",
    "from transformers.image_utils import load_image\n",
    "from PIL import Image\n",
    "import torch\n",
    "\n",
    "# Load model and processor\n",
    "model_name = \"prithivMLmods/Guard-Against-Unsafe-Content-Siglip2\"\n",
    "model = SiglipForImageClassification.from_pretrained(model_name)\n",
    "processor = AutoImageProcessor.from_pretrained(model_name)\n",
    "\n",
    "def nsfw_detection(image):\n",
    "    \"\"\"Predicts NSFW probability scores for an image.\"\"\"\n",
    "    image = Image.fromarray(image).convert(\"RGB\")\n",
    "    inputs = processor(images=image, return_tensors=\"pt\")\n",
    "    \n",
    "    with torch.no_grad():\n",
    "        outputs = model(**inputs)\n",
    "        logits = outputs.logits\n",
    "        probs = torch.nn.functional.softmax(logits, dim=1).squeeze().tolist()\n",
    "    \n",
    "    labels = model.config.id2label\n",
    "    predictions = {labels[i]: round(probs[i], 3) for i in range(len(probs))}\n",
    "    \n",
    "    return predictions\n",
    "\n",
    "# Create Gradio interface\n",
    "iface = gr.Interface(\n",
    "    fn=nsfw_detection,\n",
    "    inputs=gr.Image(type=\"numpy\"),\n",
    "    outputs=gr.Label(label=\"NSFW Content Detection\"),\n",
    "    title=\"NSFW Image Detection\",\n",
    "    description=\"Upload an image to check if it contains unsafe content such as vulgarity or nudity.\"\n",
    ")\n",
    "\n",
    "# Launch the app\n",
    "if __name__ == \"__main__\":\n",
    "    iface.launch()\n"
   ]
  }
 ],
 "metadata": {
  "kernelspec": {
   "display_name": "Python 3",
   "language": "python",
   "name": "python3"
  },
  "language_info": {
   "codemirror_mode": {
    "name": "ipython",
    "version": 3
   },
   "file_extension": ".py",
   "mimetype": "text/x-python",
   "name": "python",
   "nbconvert_exporter": "python",
   "pygments_lexer": "ipython3",
   "version": "3.12.2"
  }
 },
 "nbformat": 4,
 "nbformat_minor": 5
}
