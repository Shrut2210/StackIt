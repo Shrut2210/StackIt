{
 "cells": [
  {
   "cell_type": "code",
   "execution_count": null,
   "id": "aec18db0",
   "metadata": {},
   "outputs": [
    {
     "name": "stdout",
     "output_type": "stream",
     "text": [
      "Adult: VERY_UNLIKELY\n",
      "Racy: VERY_UNLIKELY\n",
      "Violence: VERY_UNLIKELY\n",
      "Medical: VERY_UNLIKELY\n",
      "Spoof: VERY_UNLIKELY\n",
      "✅ Content is Safe\n"
     ]
    }
   ],
   "source": [
    "from google.cloud import vision\n",
    "import io\n",
    "\n",
    "client = vision.ImageAnnotatorClient()\n",
    "\n",
    "with io.open(\"C:\\\\Users\\\\Shruti\\\\Downloads\\\\_- visual selection (6).png\", \"rb\") as image_file:\n",
    "    content = image_file.read()\n",
    "\n",
    "image = vision.Image(content=content)\n",
    "\n",
    "response = client.safe_search_detection(image=image)\n",
    "safe = response.safe_search_annotation\n",
    "\n",
    "likelihood = ('UNKNOWN', 'VERY_UNLIKELY', 'UNLIKELY', 'POSSIBLE', 'LIKELY', 'VERY_LIKELY')\n",
    "\n",
    "print(f\"Adult: {likelihood[safe.adult]}\")\n",
    "print(f\"Racy: {likelihood[safe.racy]}\")\n",
    "print(f\"Violence: {likelihood[safe.violence]}\")\n",
    "print(f\"Medical: {likelihood[safe.medical]}\")\n",
    "print(f\"Spoof: {likelihood[safe.spoof]}\")\n",
    "\n",
    "if safe.adult >= 3 or safe.racy >= 3:\n",
    "    print(\"🚫 Unsafe Content Detected\")\n",
    "else:\n",
    "    print(\"✅ Content is Safe\")\n"
   ]
  }
 ],
 "metadata": {
  "kernelspec": {
   "display_name": "Python 3",
   "language": "python",
   "name": "python3"
  },
  "language_info": {
   "codemirror_mode": {
    "name": "ipython",
    "version": 3
   },
   "file_extension": ".py",
   "mimetype": "text/x-python",
   "name": "python",
   "nbconvert_exporter": "python",
   "pygments_lexer": "ipython3",
   "version": "3.12.2"
  }
 },
 "nbformat": 4,
 "nbformat_minor": 5
}
