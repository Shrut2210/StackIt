{
 "cells": [
  {
   "cell_type": "code",
   "execution_count": null,
   "id": "ca362df9",
   "metadata": {},
   "outputs": [],
   "source": [
    "import requests\n",
    "\n",
    "response = requests.post(\n",
    "    \"https://api.deepai.org/api/nsfw-detector\",\n",
    "    files={'image': open('', 'rb')},\n",
    "    headers={'api-key': 'YOUR_DEEPAI_API_KEY'}\n",
    ")\n",
    "\n",
    "print(response.json())\n"
   ]
  }
 ],
 "metadata": {
  "kernelspec": {
   "display_name": "Python 3",
   "language": "python",
   "name": "python3"
  },
  "language_info": {
   "codemirror_mode": {
    "name": "ipython",
    "version": 3
   },
   "file_extension": ".py",
   "mimetype": "text/x-python",
   "name": "python",
   "nbconvert_exporter": "python",
   "pygments_lexer": "ipython3",
   "version": "3.12.2"
  }
 },
 "nbformat": 4,
 "nbformat_minor": 5
}
